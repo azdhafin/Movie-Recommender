{
 "cells": [
  {
   "cell_type": "markdown",
   "metadata": {},
   "source": [
    "## Initialize"
   ]
  },
  {
   "cell_type": "code",
   "execution_count": 1,
   "metadata": {},
   "outputs": [],
   "source": [
    "import pandas as pd\n",
    "import scipy.stats\n",
    "import seaborn as sb\n",
    "from sklearn.metrics.pairwise import cosine_similarity\n",
    "from sklearn.feature_extraction.text import TfidfVectorizer"
   ]
  },
  {
   "cell_type": "markdown",
   "metadata": {},
   "source": [
    "## PreProcessing / EDA"
   ]
  },
  {
   "cell_type": "code",
   "execution_count": 2,
   "metadata": {},
   "outputs": [
    {
     "name": "stdout",
     "output_type": "stream",
     "text": [
      "<class 'pandas.core.frame.DataFrame'>\n",
      "Index: 462 entries, 38 to 26534\n",
      "Data columns (total 3 columns):\n",
      " #   Column             Non-Null Count  Dtype  \n",
      "---  ------             --------------  -----  \n",
      " 0   title              462 non-null    object \n",
      " 1   mean_rating        462 non-null    float64\n",
      " 2   number_of_ratings  462 non-null    int64  \n",
      "dtypes: float64(1), int64(1), object(1)\n",
      "memory usage: 14.4+ KB\n"
     ]
    }
   ],
   "source": [
    "ds_movie = pd.read_csv(\"movie.csv\")\n",
    "ds_rating = pd.read_csv(\"rating.csv\")\n",
    "df = pd.merge(ds_rating, ds_movie, on='movieId', how='inner')\n",
    "df = df.sort_values(by=['movieId'])\n",
    "interactions_count = ds_rating.groupby('userId').size().reset_index(name='num_interactions')\n",
    "interactions_count.head()\n",
    "agr_ratings = df.groupby('title').agg(mean_rating = ('rating','mean'), number_of_ratings = ('rating', 'count')).reset_index()\n",
    "agr_ratings_100 = agr_ratings[agr_ratings['number_of_ratings'] > 10000]\n",
    "agr_ratings_100.info()\n",
    "agr_ratings_100.sort_values(by='number_of_ratings', ascending=False).head()\n",
    "df_100 = pd.merge(df, agr_ratings_100[['title']], on='title', how='inner')"
   ]
  },
  {
   "cell_type": "markdown",
   "metadata": {},
   "source": [
    "## Model"
   ]
  },
  {
   "cell_type": "code",
   "execution_count": 3,
   "metadata": {},
   "outputs": [
    {
     "name": "stdout",
     "output_type": "stream",
     "text": [
      "24\n",
      "175\n",
      "User ID :  1\n",
      "Recall@50: 0.14\n",
      "Total Value :  0.13714285714285715\n",
      "--------------------------------------\n",
      "23\n",
      "61\n",
      "User ID :  2\n",
      "Recall@50: 0.38\n",
      "Total Value :  0.514192037470726\n",
      "--------------------------------------\n",
      "38\n",
      "187\n",
      "User ID :  3\n",
      "Recall@50: 0.20\n",
      "Total Value :  0.7174005936204586\n",
      "--------------------------------------\n",
      "15\n",
      "28\n",
      "User ID :  4\n",
      "Recall@50: 0.54\n",
      "Total Value :  1.2531148793347442\n",
      "--------------------------------------\n",
      "16\n",
      "66\n",
      "User ID :  5\n",
      "Recall@50: 0.24\n",
      "Total Value :  1.4955391217589866\n",
      "--------------------------------------\n",
      "7\n",
      "24\n",
      "User ID :  6\n",
      "Recall@50: 0.29\n",
      "Total Value :  1.7872057884256534\n",
      "--------------------------------------\n",
      "29\n",
      "276\n",
      "User ID :  7\n",
      "Recall@50: 0.11\n",
      "Total Value :  1.8922782521937693\n",
      "--------------------------------------\n",
      "22\n",
      "70\n",
      "User ID :  8\n",
      "Recall@50: 0.31\n",
      "Total Value :  2.2065639664794836\n",
      "--------------------------------------\n",
      "15\n",
      "35\n",
      "User ID :  9\n",
      "Recall@50: 0.43\n",
      "Total Value :  2.635135395050912\n",
      "--------------------------------------\n",
      "Average Performance of Recall@50 :  0.2635135395050912\n",
      "Best Value  :  0.5357142857142857\n"
     ]
    }
   ],
   "source": [
    "from sklearn.metrics.pairwise import cosine_similarity\n",
    "import numpy as np\n",
    "\n",
    "def recall_at_k(user_interactions, count, ranked_item_score, ground_truth, k):\n",
    "    top_k_items = ranked_item_score.head(k)['genres'].tolist()\n",
    "    actual_items = user_interactions['genres'].tolist()  \n",
    "    common_items = count\n",
    "    print(common_items)\n",
    "    print(len(actual_items))\n",
    "    recall = common_items / len(actual_items) ## Relevant Items in Top K/Total Relevant Items\n",
    "    return recall\n",
    "\n",
    "def model(selectUser):\n",
    "    temp = interactions_count[interactions_count['userId'] == selectUser]\n",
    "    ground_truth = temp.iloc[0]['num_interactions']\n",
    "    matrix_temp = df_100.pivot_table(index='userId', columns='title', values='rating')\n",
    "    matrix = matrix_temp.iloc[:3000]\n",
    "    matrix_norm = matrix.subtract(matrix.mean(axis=1), axis = 'rows')\n",
    "    user_similarity = matrix_norm.T.corr()\n",
    "    user_similarity.drop(index=selectUser, inplace=True)\n",
    "    n = 10\n",
    "    threshold = 0.3\n",
    "    similar_users = user_similarity[user_similarity[selectUser]>threshold][selectUser].sort_values(ascending=False)[:n]\n",
    "    picked_userid_watched = matrix_norm[matrix_norm.index == selectUser].dropna(axis=1, how='all')\n",
    "    similar_user_movies = matrix_norm[matrix_norm.index.isin(similar_users.index)].dropna(axis=1, how='all')\n",
    "    similar_user_movies.drop(picked_userid_watched.columns,axis=1, inplace=True, errors='ignore')\n",
    "    item_score = {}\n",
    "    for i in similar_user_movies.columns:\n",
    "        movie_rating = similar_user_movies[i]\n",
    "        total = 0\n",
    "        count = 0\n",
    "        for u in similar_users.index:\n",
    "            if pd.isna(movie_rating[u]) == False:\n",
    "                score = similar_users[u] * movie_rating[u]\n",
    "                total += score\n",
    "                count +=1\n",
    "        item_score[i] = total / count\n",
    "\n",
    "    item_score = pd.DataFrame(item_score.items(), columns=['title', 'movie_score'])\n",
    "    ranked_item_score = item_score.sort_values(by='movie_score', ascending=False)\n",
    "\n",
    "    m = 50\n",
    "    ranked_item_score.head(m)\n",
    "    ranked_item_score = pd.merge(ranked_item_score, ds_movie[['title', 'genres']], on='title', how='left')\n",
    "    user_interactions = pd.merge(ds_rating[ds_rating['userId'] == selectUser], ds_movie[['movieId', 'title', 'genres']], on='movieId', how='left')\n",
    "    user_interactions.drop(columns=['timestamp'])\n",
    "\n",
    "    k = 50  # Number of top items to consider\n",
    "\n",
    "    top_n_rits = ranked_item_score.head(k)\n",
    "    top_n_ui = user_interactions.head(k)\n",
    "\n",
    "    tfidf_vectorizer = TfidfVectorizer()\n",
    "    tfidf_matrix_ranked = tfidf_vectorizer.fit_transform(top_n_rits['title'] + ' ' + top_n_rits['genres'])\n",
    "    tfidf_matrix_user = tfidf_vectorizer.transform(top_n_ui['title'] + ' ' + top_n_ui['genres'])\n",
    "\n",
    "    similarity_matrix = cosine_similarity(tfidf_matrix_user, tfidf_matrix_ranked)\n",
    "    similarity_df = pd.DataFrame(similarity_matrix, index=top_n_ui['title'], columns=top_n_rits['title'])\n",
    "        \n",
    "    similar_movies = []\n",
    "\n",
    "    for i, user_movie in enumerate(top_n_ui['title']):\n",
    "        for j, ranked_movie in enumerate(top_n_rits['title']):\n",
    "            similarity = similarity_matrix[i, j]\n",
    "            if similarity > 0.5:\n",
    "                similar_movies.append((user_movie, ranked_movie))\n",
    "                \n",
    "    for user_movie, ranked_movie in similar_movies:\n",
    "        count += 1\n",
    "        \n",
    "    recall = recall_at_k(user_interactions, count, ranked_item_score, temp, k)\n",
    "    print(\"User ID : \", selectUser)\n",
    "    print(\"Recall@{}: {:.2f}\".format(k, recall))\n",
    "    return recall\n",
    "    \n",
    "def reset_variables():\n",
    "    local_vars = locals().copy()\n",
    "    for var in local_vars:\n",
    "        if var != 'reset_variables' and var != 'model':\n",
    "            del locals()[var]\n",
    "\n",
    "total = 0          \n",
    "best = 0\n",
    "for user in range(1, 10):\n",
    "    val = model(user)\n",
    "    if(val > best):\n",
    "        best = val\n",
    "    total += val\n",
    "    print(\"Total Value : \", total)\n",
    "    print(\"--------------------------------------\")\n",
    "    reset_variables()\n",
    "    \n",
    "print(\"Average Performance of Recall@50 : \", total/10)\n",
    "print(\"Best Value  : \", best)"
   ]
  },
  {
   "cell_type": "markdown",
   "metadata": {},
   "source": [
    "## Results"
   ]
  },
  {
   "cell_type": "markdown",
   "metadata": {},
   "source": [
    "### Recall@50\n",
    "- From 10 Samples : 0.2635135395050912 (best 0.5357142857142857) \n",
    "- From 100 Samples : 0.27457576746647855 (best 0.8)\n",
    "- From 280 Samples (Error on ID 281) 0.27342825934544785\n",
    "- From 1000 Samples : \n",
    "- From 10000 Samples : \n",
    "- From 100000 Samples : "
   ]
  },
  {
   "cell_type": "code",
   "execution_count": 4,
   "metadata": {},
   "outputs": [],
   "source": [
    "import matplotlib.pyplot as plt"
   ]
  },
  {
   "cell_type": "code",
   "execution_count": 5,
   "metadata": {},
   "outputs": [
    {
     "data": {
      "image/png": "[encoded data removed]",
      "text/plain": [
       "<Figure size 640x480 with 1 Axes>"
      ]
     },
     "metadata": {},
     "output_type": "display_data"
    }
   ],
   "source": [
    "X = [10, 100, 280]\n",
    "Y = [0.2635135395050912, 0.27457576746647855, 0.27342825934544785]\n",
    "\n",
    "plt.plot(X,Y)\n",
    "plt.show()"
   ]
  },
  {
   "cell_type": "code",
   "execution_count": null,
   "metadata": {},
   "outputs": [],
   "source": []
  }
 ],
 "metadata": {
  "kernelspec": {
   "display_name": "Python 3",
   "language": "python",
   "name": "python3"
  },
  "language_info": {
   "codemirror_mode": {
    "name": "ipython",
    "version": 3
   },
   "file_extension": ".py",
   "mimetype": "text/x-python",
   "name": "python",
   "nbconvert_exporter": "python",
   "pygments_lexer": "ipython3",
   "version": "3.11.9"
  }
 },
 "nbformat": 4,
 "nbformat_minor": 2
}
